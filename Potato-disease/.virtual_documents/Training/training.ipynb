import tensorflow as tf
from tensorflow.keras import models, layers
import matplotlib.pyplot as plt


IMAGE_SIZE = 256


tf.keras.preprocessing.image_dataset_from_directory(
    "Data",
    shuffle = True,
    image_size = (IMAGE_SIZE, IMAGE_SIZE),
    
    
)
